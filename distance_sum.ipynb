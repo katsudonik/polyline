{
 "cells": [
  {
   "cell_type": "code",
   "execution_count": 1,
   "metadata": {
    "collapsed": true
   },
   "outputs": [],
   "source": [
    "import numpy as np\n",
    "import math"
   ]
  },
  {
   "cell_type": "code",
   "execution_count": 13,
   "metadata": {
    "collapsed": true
   },
   "outputs": [],
   "source": [
    "points = []\n",
    "points.append([35.658505, 139.802043])\n",
    "points.append([35.661617, 139.802349])\n",
    "points.append([35.660445, 139.800450])\n",
    "\n",
    "points = np.array(points)"
   ]
  },
  {
   "cell_type": "code",
   "execution_count": 14,
   "metadata": {
    "collapsed": false
   },
   "outputs": [
    {
     "data": {
      "text/plain": [
       "array([[ 35.658505, 139.802043],\n",
       "       [ 35.661617, 139.802349],\n",
       "       [ 35.660445, 139.80045 ]])"
      ]
     },
     "execution_count": 14,
     "metadata": {},
     "output_type": "execute_result"
    }
   ],
   "source": [
    "points"
   ]
  },
  {
   "cell_type": "code",
   "execution_count": 15,
   "metadata": {
    "collapsed": true
   },
   "outputs": [],
   "source": [
    "_points = points"
   ]
  },
  {
   "cell_type": "code",
   "execution_count": 16,
   "metadata": {
    "collapsed": false
   },
   "outputs": [],
   "source": [
    "points = np.delete(points, -1 , 0)"
   ]
  },
  {
   "cell_type": "code",
   "execution_count": 17,
   "metadata": {
    "collapsed": false
   },
   "outputs": [
    {
     "data": {
      "text/plain": [
       "array([[ 35.658505, 139.802043],\n",
       "       [ 35.661617, 139.802349]])"
      ]
     },
     "execution_count": 17,
     "metadata": {},
     "output_type": "execute_result"
    }
   ],
   "source": [
    "points"
   ]
  },
  {
   "cell_type": "code",
   "execution_count": 18,
   "metadata": {
    "collapsed": false
   },
   "outputs": [],
   "source": [
    "_points = np.delete(_points, 0 , 0)"
   ]
  },
  {
   "cell_type": "code",
   "execution_count": 19,
   "metadata": {
    "collapsed": false
   },
   "outputs": [
    {
     "data": {
      "text/plain": [
       "array([[ 35.661617, 139.802349],\n",
       "       [ 35.660445, 139.80045 ]])"
      ]
     },
     "execution_count": 19,
     "metadata": {},
     "output_type": "execute_result"
    }
   ],
   "source": [
    "_points"
   ]
  },
  {
   "cell_type": "code",
   "execution_count": 23,
   "metadata": {
    "collapsed": false
   },
   "outputs": [],
   "source": [
    "v = np.c_[points, _points]"
   ]
  },
  {
   "cell_type": "code",
   "execution_count": 24,
   "metadata": {
    "collapsed": false
   },
   "outputs": [
    {
     "data": {
      "text/plain": [
       "array([[ 35.658505, 139.802043,  35.661617, 139.802349],\n",
       "       [ 35.661617, 139.802349,  35.660445, 139.80045 ]])"
      ]
     },
     "execution_count": 24,
     "metadata": {},
     "output_type": "execute_result"
    }
   ],
   "source": [
    "v"
   ]
  },
  {
   "cell_type": "code",
   "execution_count": 34,
   "metadata": {
    "collapsed": true
   },
   "outputs": [],
   "source": [
    "b1 = np.array([\"outputType\", \"ellipsoid\", \"latitude1\", \"longitude1\", \"latitude2\", \"longitude2\"])"
   ]
  },
  {
   "cell_type": "code",
   "execution_count": 35,
   "metadata": {
    "collapsed": false
   },
   "outputs": [
    {
     "data": {
      "text/plain": [
       "array(['outputType', 'ellipsoid', 'latitude1', 'longitude1', 'latitude2',\n",
       "       'longitude2'], dtype='<U10')"
      ]
     },
     "execution_count": 35,
     "metadata": {},
     "output_type": "execute_result"
    }
   ],
   "source": [
    "b1"
   ]
  },
  {
   "cell_type": "code",
   "execution_count": 36,
   "metadata": {
    "collapsed": false
   },
   "outputs": [
    {
     "name": "stdout",
     "output_type": "stream",
     "text": [
      "{'outputType': 'json', 'ellipsoid': 'bessel', 'latitude1': '35.658505', 'longitude1': '139.802043', 'latitude2': '35.661617', 'longitude2': '139.802349'}\n",
      "{'outputType': 'json', 'ellipsoid': 'bessel', 'latitude1': '35.661617', 'longitude1': '139.802349', 'latitude2': '35.660445', 'longitude2': '139.80045'}\n"
     ]
    }
   ],
   "source": [
    "for point in v:\n",
    "    point = np.r_[[\"json\", \"bessel\"], point]\n",
    "    _v = np.vstack((b1, point))\n",
    "    _v = _v.transpose()\n",
    "    _v = dict(_v)\n",
    "    print(_v)"
   ]
  },
  {
   "cell_type": "code",
   "execution_count": 37,
   "metadata": {
    "collapsed": true
   },
   "outputs": [],
   "source": [
    "import requests\n",
    "import json\n",
    "\n",
    "DISTANCE_API = \"http://vldb.gsi.go.jp/sokuchi/surveycalc/surveycalc/bl2st_calc.pl\""
   ]
  },
  {
   "cell_type": "code",
   "execution_count": 38,
   "metadata": {
    "collapsed": true
   },
   "outputs": [],
   "source": [
    "def distance(payload):\n",
    "    r = requests.get(DISTANCE_API, params=payload).json()\n",
    "    return r['OutputData']['geoLength']  "
   ]
  },
  {
   "cell_type": "code",
   "execution_count": 39,
   "metadata": {
    "collapsed": false
   },
   "outputs": [
    {
     "name": "stdout",
     "output_type": "stream",
     "text": [
      "{'outputType': 'json', 'ellipsoid': 'bessel', 'latitude1': '35.658505', 'longitude1': '139.802043', 'latitude2': '35.661617', 'longitude2': '139.802349'}\n",
      "346.358\n",
      "{'outputType': 'json', 'ellipsoid': 'bessel', 'latitude1': '35.661617', 'longitude1': '139.802349', 'latitude2': '35.660445', 'longitude2': '139.80045'}\n",
      "215.559\n"
     ]
    }
   ],
   "source": [
    "for point in v:\n",
    "    point = np.r_[[\"json\", \"bessel\"], point]\n",
    "    _v = np.vstack((b1, point))\n",
    "    _v = _v.transpose()\n",
    "    _v = dict(_v)\n",
    "    print(_v)\n",
    "    print(distance(_v))"
   ]
  },
  {
   "cell_type": "code",
   "execution_count": 44,
   "metadata": {
    "collapsed": false
   },
   "outputs": [
    {
     "name": "stdout",
     "output_type": "stream",
     "text": [
      "{'outputType': 'json', 'ellipsoid': 'bessel', 'latitude1': '35.658505', 'longitude1': '139.802043', 'latitude2': '35.661617', 'longitude2': '139.802349'}\n",
      "346.358\n",
      "{'outputType': 'json', 'ellipsoid': 'bessel', 'latitude1': '35.661617', 'longitude1': '139.802349', 'latitude2': '35.660445', 'longitude2': '139.80045'}\n",
      "215.559\n"
     ]
    }
   ],
   "source": [
    "_d = 0\n",
    "for point in v:\n",
    "    point = np.r_[[\"json\", \"bessel\"], point]\n",
    "    _v = np.vstack((b1, point))\n",
    "    _v = _v.transpose()\n",
    "    _v = dict(_v)\n",
    "    print(_v)\n",
    "    d = distance(_v)\n",
    "    print(d)\n",
    "    _d = _d + float(d)\n",
    "    \n",
    "    "
   ]
  },
  {
   "cell_type": "code",
   "execution_count": 45,
   "metadata": {
    "collapsed": false
   },
   "outputs": [
    {
     "data": {
      "text/plain": [
       "561.917"
      ]
     },
     "execution_count": 45,
     "metadata": {},
     "output_type": "execute_result"
    }
   ],
   "source": [
    "_d"
   ]
  },
  {
   "cell_type": "code",
   "execution_count": null,
   "metadata": {
    "collapsed": true
   },
   "outputs": [],
   "source": []
  }
 ],
 "metadata": {
  "kernelspec": {
   "display_name": "Python 3",
   "language": "python",
   "name": "python3"
  },
  "language_info": {
   "codemirror_mode": {
    "name": "ipython",
    "version": 3
   },
   "file_extension": ".py",
   "mimetype": "text/x-python",
   "name": "python",
   "nbconvert_exporter": "python",
   "pygments_lexer": "ipython3",
   "version": "3.6.0"
  }
 },
 "nbformat": 4,
 "nbformat_minor": 2
}
