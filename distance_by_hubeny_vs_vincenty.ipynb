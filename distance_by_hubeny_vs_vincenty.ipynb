{
 "cells": [
  {
   "cell_type": "code",
   "execution_count": 1,
   "metadata": {
    "collapsed": true
   },
   "outputs": [],
   "source": [
    "import numpy as np\n",
    "from numpy.random import *\n",
    "import math\n",
    "\n",
    "count = 3600 * 12\n",
    "_lo = np.array(rand(count))\n",
    "_la = _lo**3 \n",
    "\n",
    "lo = np.sort(_lo + 35) \n",
    "la = np.sort(_la + 139)\n",
    "points_d = np.c_[lo, la]\n",
    "_points = points_d\n",
    "points = points_d\n",
    "points = np.delete(points, -1 , 0)\n",
    "_points = np.delete(_points, 0 , 0)\n",
    "v = np.c_[points, _points]"
   ]
  },
  {
   "cell_type": "code",
   "execution_count": 2,
   "metadata": {
    "collapsed": false
   },
   "outputs": [
    {
     "data": {
      "text/plain": [
       "array([[ 35.00001197, 139.        ,  35.00007451, 139.        ],\n",
       "       [ 35.00007451, 139.        ,  35.00007875, 139.        ],\n",
       "       [ 35.00007875, 139.        ,  35.00007939, 139.        ],\n",
       "       ...,\n",
       "       [ 35.99989542, 139.99968628,  35.99992587, 139.99977763],\n",
       "       [ 35.99992587, 139.99977763,  35.99996985, 139.99990957],\n",
       "       [ 35.99996985, 139.99990957,  35.99999634, 139.99998903]])"
      ]
     },
     "execution_count": 2,
     "metadata": {},
     "output_type": "execute_result"
    }
   ],
   "source": [
    "v"
   ]
  },
  {
   "cell_type": "code",
   "execution_count": 3,
   "metadata": {
    "collapsed": false
   },
   "outputs": [
    {
     "data": {
      "text/plain": [
       "35.000011966731456"
      ]
     },
     "execution_count": 3,
     "metadata": {},
     "output_type": "execute_result"
    }
   ],
   "source": [
    "v[0][0]"
   ]
  },
  {
   "cell_type": "code",
   "execution_count": 4,
   "metadata": {
    "collapsed": false
   },
   "outputs": [],
   "source": [
    "latitude_f = v[0][0]\n",
    "longitude_f = v[0][1]\n",
    "latitude_t = v[-1][2]\n",
    "longitude_t = v[-1][3]"
   ]
  },
  {
   "cell_type": "code",
   "execution_count": 5,
   "metadata": {
    "collapsed": false
   },
   "outputs": [
    {
     "data": {
      "text/plain": [
       "35.000011966731456"
      ]
     },
     "execution_count": 5,
     "metadata": {},
     "output_type": "execute_result"
    }
   ],
   "source": [
    "latitude_f"
   ]
  },
  {
   "cell_type": "code",
   "execution_count": 6,
   "metadata": {
    "collapsed": false
   },
   "outputs": [
    {
     "data": {
      "text/plain": [
       "139.0"
      ]
     },
     "execution_count": 6,
     "metadata": {},
     "output_type": "execute_result"
    }
   ],
   "source": [
    "longitude_f"
   ]
  },
  {
   "cell_type": "code",
   "execution_count": 7,
   "metadata": {
    "collapsed": false
   },
   "outputs": [
    {
     "data": {
      "text/plain": [
       "35.9999963425389"
      ]
     },
     "execution_count": 7,
     "metadata": {},
     "output_type": "execute_result"
    }
   ],
   "source": [
    "latitude_t"
   ]
  },
  {
   "cell_type": "code",
   "execution_count": 8,
   "metadata": {
    "collapsed": false
   },
   "outputs": [
    {
     "data": {
      "text/plain": [
       "139.99998902765682"
      ]
     },
     "execution_count": 8,
     "metadata": {},
     "output_type": "execute_result"
    }
   ],
   "source": [
    "longitude_t"
   ]
  },
  {
   "cell_type": "code",
   "execution_count": 9,
   "metadata": {
    "collapsed": true
   },
   "outputs": [],
   "source": [
    "y1 = latitude_f\n",
    "y2 = latitude_t\n",
    "x1 = longitude_f\n",
    "x2 = longitude_t"
   ]
  },
  {
   "cell_type": "code",
   "execution_count": 10,
   "metadata": {
    "collapsed": true
   },
   "outputs": [],
   "source": [
    "a = 6378137.0\n",
    "b = 6356752.314140"
   ]
  },
  {
   "cell_type": "code",
   "execution_count": 11,
   "metadata": {
    "collapsed": false
   },
   "outputs": [],
   "source": [
    "  dy = math.radians(y2 - y1)\n",
    "  dx = math.radians(x2 - x1)\n",
    "  my = math.radians((y1 + y2) / 2)\n",
    "  e2 = (a**2 - b**2) / a**2\n",
    "  Mnum = a * (1 - e2)\n"
   ]
  },
  {
   "cell_type": "code",
   "execution_count": 12,
   "metadata": {
    "collapsed": false
   },
   "outputs": [
    {
     "data": {
      "text/plain": [
       "143321.6850761503"
      ]
     },
     "execution_count": 12,
     "metadata": {},
     "output_type": "execute_result"
    }
   ],
   "source": [
    "  W = math.sqrt(1 - e2 * math.sin(my)**2)\n",
    "  M = Mnum / W**3\n",
    "  N = a / W\n",
    "  d = math.sqrt((dy * M)**2 + (dx * N * math.cos(my))**2)\n",
    "  d"
   ]
  },
  {
   "cell_type": "code",
   "execution_count": 13,
   "metadata": {
    "collapsed": false
   },
   "outputs": [
    {
     "name": "stdout",
     "output_type": "stream",
     "text": [
      "Requirement already satisfied: vincenty in /root/.pyenv/versions/anaconda3-4.3.0/lib/python3.6/site-packages (0.1.4)\n",
      "\u001b[31mpillow 4.0.0 requires olefile, which is not installed.\u001b[0m\n"
     ]
    }
   ],
   "source": [
    "!pip install vincenty"
   ]
  },
  {
   "cell_type": "code",
   "execution_count": 18,
   "metadata": {
    "collapsed": true
   },
   "outputs": [],
   "source": [
    "from vincenty import vincenty"
   ]
  },
  {
   "cell_type": "code",
   "execution_count": 19,
   "metadata": {
    "collapsed": false
   },
   "outputs": [
    {
     "name": "stdout",
     "output_type": "stream",
     "text": [
      "13525.830918\n"
     ]
    }
   ],
   "source": [
    "d = vincenty((y1, y2), (x1, x2))\n",
    "print(d)"
   ]
  },
  {
   "cell_type": "code",
   "execution_count": null,
   "metadata": {
    "collapsed": true
   },
   "outputs": [],
   "source": [
    "print(_d)"
   ]
  },
  {
   "cell_type": "markdown",
   "metadata": {},
   "source": [
    "https://vldb.gsi.go.jp/sokuchi/surveycalc/surveycalc/bl2stf.html: \n",
    "143,320.148 (Decimal system of units)"
   ]
  },
  {
   "cell_type": "code",
   "execution_count": null,
   "metadata": {
    "collapsed": true
   },
   "outputs": [],
   "source": []
  }
 ],
 "metadata": {
  "kernelspec": {
   "display_name": "Python 3",
   "language": "python",
   "name": "python3"
  },
  "language_info": {
   "codemirror_mode": {
    "name": "ipython",
    "version": 3
   },
   "file_extension": ".py",
   "mimetype": "text/x-python",
   "name": "python",
   "nbconvert_exporter": "python",
   "pygments_lexer": "ipython3",
   "version": "3.6.0"
  }
 },
 "nbformat": 4,
 "nbformat_minor": 2
}
