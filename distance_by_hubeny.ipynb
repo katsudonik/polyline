{
 "cells": [
  {
   "cell_type": "code",
   "execution_count": 86,
   "metadata": {
    "collapsed": true
   },
   "outputs": [],
   "source": [
    "import numpy as np\n",
    "from numpy.random import *\n",
    "import math\n",
    "\n",
    "count = 3600 * 12\n",
    "_lo = np.array(rand(count))\n",
    "_la = _lo**3 \n",
    "\n",
    "lo = np.sort(_lo + 35) \n",
    "la = np.sort(_la + 139)\n",
    "points_d = np.c_[lo, la]\n",
    "_points = points_d\n",
    "points = points_d\n",
    "points = np.delete(points, -1 , 0)\n",
    "_points = np.delete(_points, 0 , 0)\n",
    "v = np.c_[points, _points]"
   ]
  },
  {
   "cell_type": "code",
   "execution_count": 87,
   "metadata": {
    "collapsed": false
   },
   "outputs": [
    {
     "data": {
      "text/plain": [
       "array([[ 35.00000369, 139.        ,  35.00001057, 139.        ],\n",
       "       [ 35.00001057, 139.        ,  35.00001293, 139.        ],\n",
       "       [ 35.00001293, 139.        ,  35.0000308 , 139.        ],\n",
       "       ...,\n",
       "       [ 35.99997167, 139.999915  ,  35.99998412, 139.99995235],\n",
       "       [ 35.99998412, 139.99995235,  35.99999376, 139.99998129],\n",
       "       [ 35.99999376, 139.99998129,  35.99999569, 139.99998706]])"
      ]
     },
     "execution_count": 87,
     "metadata": {},
     "output_type": "execute_result"
    }
   ],
   "source": [
    "v"
   ]
  },
  {
   "cell_type": "code",
   "execution_count": 88,
   "metadata": {
    "collapsed": false
   },
   "outputs": [
    {
     "data": {
      "text/plain": [
       "35.00000369424563"
      ]
     },
     "execution_count": 88,
     "metadata": {},
     "output_type": "execute_result"
    }
   ],
   "source": [
    "v[0][0]"
   ]
  },
  {
   "cell_type": "code",
   "execution_count": 89,
   "metadata": {
    "collapsed": false
   },
   "outputs": [],
   "source": [
    "latitude_f = v[0][0]\n",
    "longitude_f = v[0][1]\n",
    "latitude_t = v[-1][2]\n",
    "longitude_t = v[-1][3]"
   ]
  },
  {
   "cell_type": "code",
   "execution_count": 90,
   "metadata": {
    "collapsed": false
   },
   "outputs": [
    {
     "data": {
      "text/plain": [
       "35.00000369424563"
      ]
     },
     "execution_count": 90,
     "metadata": {},
     "output_type": "execute_result"
    }
   ],
   "source": [
    "latitude_f"
   ]
  },
  {
   "cell_type": "code",
   "execution_count": 91,
   "metadata": {
    "collapsed": false
   },
   "outputs": [
    {
     "data": {
      "text/plain": [
       "139.0"
      ]
     },
     "execution_count": 91,
     "metadata": {},
     "output_type": "execute_result"
    }
   ],
   "source": [
    "longitude_f"
   ]
  },
  {
   "cell_type": "code",
   "execution_count": 92,
   "metadata": {
    "collapsed": false
   },
   "outputs": [
    {
     "data": {
      "text/plain": [
       "35.999995686260895"
      ]
     },
     "execution_count": 92,
     "metadata": {},
     "output_type": "execute_result"
    }
   ],
   "source": [
    "latitude_t"
   ]
  },
  {
   "cell_type": "code",
   "execution_count": 93,
   "metadata": {
    "collapsed": false
   },
   "outputs": [
    {
     "data": {
      "text/plain": [
       "139.9999870588385"
      ]
     },
     "execution_count": 93,
     "metadata": {},
     "output_type": "execute_result"
    }
   ],
   "source": [
    "longitude_t"
   ]
  },
  {
   "cell_type": "code",
   "execution_count": 94,
   "metadata": {
    "collapsed": true
   },
   "outputs": [],
   "source": [
    "y1 = latitude_f\n",
    "y2 = latitude_t\n",
    "x1 = longitude_f\n",
    "x2 = longitude_t"
   ]
  },
  {
   "cell_type": "code",
   "execution_count": 95,
   "metadata": {
    "collapsed": true
   },
   "outputs": [],
   "source": [
    "a = 6378137.0\n",
    "b = 6356752.314140"
   ]
  },
  {
   "cell_type": "code",
   "execution_count": 96,
   "metadata": {
    "collapsed": false
   },
   "outputs": [],
   "source": [
    "  dy = math.radians(y2 - y1)\n",
    "  dx = math.radians(x2 - x1)\n",
    "  my = math.radians((y1 + y2) / 2)\n",
    "  e2 = (a**2 - b**2) / a**2\n",
    "  Mnum = a * (1 - e2)\n"
   ]
  },
  {
   "cell_type": "code",
   "execution_count": 97,
   "metadata": {
    "collapsed": false
   },
   "outputs": [
    {
     "data": {
      "text/plain": [
       "143322.2292553822"
      ]
     },
     "execution_count": 97,
     "metadata": {},
     "output_type": "execute_result"
    }
   ],
   "source": [
    "  W = math.sqrt(1 - e2 * math.sin(my)**2)\n",
    "  M = Mnum / W**3\n",
    "  N = a / W\n",
    "  d = math.sqrt((dy * M)**2 + (dx * N * math.cos(my))**2)\n",
    "  d"
   ]
  },
  {
   "cell_type": "code",
   "execution_count": null,
   "metadata": {
    "collapsed": true
   },
   "outputs": [],
   "source": []
  },
  {
   "cell_type": "code",
   "execution_count": null,
   "metadata": {
    "collapsed": true
   },
   "outputs": [],
   "source": []
  },
  {
   "cell_type": "code",
   "execution_count": null,
   "metadata": {
    "collapsed": true
   },
   "outputs": [],
   "source": []
  }
 ],
 "metadata": {
  "kernelspec": {
   "display_name": "Python 3",
   "language": "python",
   "name": "python3"
  },
  "language_info": {
   "codemirror_mode": {
    "name": "ipython",
    "version": 3
   },
   "file_extension": ".py",
   "mimetype": "text/x-python",
   "name": "python",
   "nbconvert_exporter": "python",
   "pygments_lexer": "ipython3",
   "version": "3.6.0"
  }
 },
 "nbformat": 4,
 "nbformat_minor": 2
}
