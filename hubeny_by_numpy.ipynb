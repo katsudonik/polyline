{
 "cells": [
  {
   "cell_type": "code",
   "execution_count": 56,
   "metadata": {},
   "outputs": [],
   "source": [
    "import numpy as np\n",
    "from numpy.random import *\n",
    "import math\n",
    "import time\n",
    "\n",
    "\n",
    "def hubeny(latf, longf, late, longe):\n",
    "    y1 = latf\n",
    "    y2 = late\n",
    "    x1 = longf\n",
    "    x2 = longe\n",
    "\n",
    "    a = 6378137.0\n",
    "    b = 6356752.314140\n",
    "    dy = math.radians(y2 - y1)\n",
    "    dx = math.radians(x2 - x1)\n",
    "    my = math.radians((y1 + y2) / 2)\n",
    "    e2 = (a**2 - b**2) / a**2\n",
    "    Mnum = a * (1 - e2)\n",
    "    W = math.sqrt(1 - e2 * math.sin(my)**2)\n",
    "    M = Mnum / W**3\n",
    "    N = a / W\n",
    "    return math.sqrt((dy * M)**2 + (dx * N * math.cos(my))**2)\n"
   ]
  },
  {
   "cell_type": "code",
   "execution_count": 57,
   "metadata": {},
   "outputs": [],
   "source": [
    "count = 3601 * 24\n",
    "_lo = np.array(rand(count))\n",
    "_la = _lo**3 \n",
    "\n",
    "lo = np.sort(_lo + 35) \n",
    "la = np.sort(_la + 139)\n",
    "points = np.c_[lo, la]"
   ]
  },
  {
   "cell_type": "code",
   "execution_count": 58,
   "metadata": {},
   "outputs": [
    {
     "data": {
      "text/plain": [
       "array([[ 35.00000383, 139.        ],\n",
       "       [ 35.0000163 , 139.        ],\n",
       "       [ 35.00002055, 139.        ],\n",
       "       ...,\n",
       "       [ 35.99995742, 139.99987226],\n",
       "       [ 35.99996693, 139.99990079],\n",
       "       [ 35.99997037, 139.99991112]])"
      ]
     },
     "execution_count": 58,
     "metadata": {},
     "output_type": "execute_result"
    }
   ],
   "source": [
    "points"
   ]
  },
  {
   "cell_type": "code",
   "execution_count": 59,
   "metadata": {},
   "outputs": [
    {
     "data": {
      "text/plain": [
       "array([[ 35.00000383, 139.        ,  35.0000163 , 139.        ],\n",
       "       [ 35.0000163 , 139.        ,  35.00002055, 139.        ],\n",
       "       [ 35.00002055, 139.        ,  35.00002966, 139.        ],\n",
       "       ...,\n",
       "       [ 35.99994733, 139.99984199,  35.99995742, 139.99987226],\n",
       "       [ 35.99995742, 139.99987226,  35.99996693, 139.99990079],\n",
       "       [ 35.99996693, 139.99990079,  35.99997037, 139.99991112]])"
      ]
     },
     "execution_count": 59,
     "metadata": {},
     "output_type": "execute_result"
    }
   ],
   "source": [
    "v = np.c_[np.delete(points, -1 , 0), np.delete(points, 0 , 0)]\n",
    "v"
   ]
  },
  {
   "cell_type": "code",
   "execution_count": 60,
   "metadata": {},
   "outputs": [
    {
     "data": {
      "text/plain": [
       "(86423, 4)"
      ]
     },
     "execution_count": 60,
     "metadata": {},
     "output_type": "execute_result"
    }
   ],
   "source": [
    "v.shape"
   ]
  },
  {
   "cell_type": "code",
   "execution_count": 61,
   "metadata": {},
   "outputs": [
    {
     "name": "stdout",
     "output_type": "stream",
     "text": [
      "155587.642726857\n",
      "elapsed_time:0.2534909248352051[sec]\n"
     ]
    }
   ],
   "source": [
    "start = time.time()\n",
    "distance = 0\n",
    "for point in v:\n",
    "    distance += hubeny(point[0], point[1], point[2], point[3])\n",
    "\n",
    "print(distance)\n",
    "elapsed_time = time.time() - start\n",
    "print (\"elapsed_time:{0}\".format(elapsed_time) + \"[sec]\")"
   ]
  },
  {
   "cell_type": "code",
   "execution_count": 62,
   "metadata": {},
   "outputs": [
    {
     "data": {
      "text/plain": [
       "array([139.        , 139.        , 139.        , ..., 139.99984199,\n",
       "       139.99987226, 139.99990079])"
      ]
     },
     "execution_count": 62,
     "metadata": {},
     "output_type": "execute_result"
    }
   ],
   "source": [
    "v[:,1]"
   ]
  },
  {
   "cell_type": "code",
   "execution_count": 63,
   "metadata": {},
   "outputs": [],
   "source": [
    "def hubeny(latf, longf, late, longe):\n",
    "    y1 = latf\n",
    "    y2 = late\n",
    "    x1 = longf\n",
    "    x2 = longe\n",
    "\n",
    "    a = 6378137.0\n",
    "    b = 6356752.314140\n",
    "    dy = np.radians(y2 - y1)\n",
    "    dx = np.radians(x2 - x1)\n",
    "    my = np.radians((y1 + y2) / 2)\n",
    "    e2 = (a**2 - b**2) / a**2\n",
    "    Mnum = a * (1 - e2)\n",
    "    W = np.sqrt(1 - e2 * np.sin(my)**2)\n",
    "    M = Mnum / W**3\n",
    "    N = a / W\n",
    "    return np.sqrt((dy * M)**2 + (dx * N * np.cos(my))**2)\n"
   ]
  },
  {
   "cell_type": "code",
   "execution_count": 64,
   "metadata": {},
   "outputs": [
    {
     "name": "stdout",
     "output_type": "stream",
     "text": [
      "155587.6427268551\n",
      "elapsed_time:0.012278079986572266[sec]\n"
     ]
    }
   ],
   "source": [
    "start = time.time()\n",
    "\n",
    "distances = hubeny(v[:,0], v[:,1], v[:,2], v[:,3])\n",
    "print(np.sum(distances))\n",
    "\n",
    "elapsed_time = time.time() - start\n",
    "print (\"elapsed_time:{0}\".format(elapsed_time) + \"[sec]\")"
   ]
  },
  {
   "cell_type": "code",
   "execution_count": null,
   "metadata": {},
   "outputs": [],
   "source": []
  }
 ],
 "metadata": {
  "kernelspec": {
   "display_name": "Python 3",
   "language": "python",
   "name": "python3"
  },
  "language_info": {
   "codemirror_mode": {
    "name": "ipython",
    "version": 3
   },
   "file_extension": ".py",
   "mimetype": "text/x-python",
   "name": "python",
   "nbconvert_exporter": "python",
   "pygments_lexer": "ipython3",
   "version": "3.7.0"
  }
 },
 "nbformat": 4,
 "nbformat_minor": 2
}
