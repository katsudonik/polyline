{
 "cells": [
  {
   "cell_type": "code",
   "execution_count": 82,
   "metadata": {},
   "outputs": [],
   "source": [
    "import numpy as np\n",
    "from numpy.random import *\n",
    "import math\n",
    "import time\n",
    "\n",
    "\n",
    "def hubeny(latf, longf, late, longe):\n",
    "    y1 = latf\n",
    "    y2 = late\n",
    "    x1 = longf\n",
    "    x2 = longe\n",
    "\n",
    "    a = 6378137.0\n",
    "    b = 6356752.314140\n",
    "    dy = math.radians(y2 - y1)\n",
    "    dx = math.radians(x2 - x1)\n",
    "    my = math.radians((y1 + y2) / 2)\n",
    "    e2 = (a**2 - b**2) / a**2\n",
    "    Mnum = a * (1 - e2)\n",
    "    W = math.sqrt(1 - e2 * math.sin(my)**2)\n",
    "    M = Mnum / W**3\n",
    "    N = a / W\n",
    "    return math.sqrt((dy * M)**2 + (dx * N * math.cos(my))**2)\n"
   ]
  },
  {
   "cell_type": "code",
   "execution_count": 83,
   "metadata": {},
   "outputs": [],
   "source": [
    "count = 3601 * 24\n",
    "_lo = np.array(rand(count))\n",
    "_la = _lo**3 \n",
    "\n",
    "lo = np.sort(_lo + 35) \n",
    "la = np.sort(_la + 139)\n",
    "points = np.c_[lo, la]"
   ]
  },
  {
   "cell_type": "code",
   "execution_count": 84,
   "metadata": {},
   "outputs": [
    {
     "data": {
      "text/plain": [
       "array([[ 35.00000752, 139.        ],\n",
       "       [ 35.00000991, 139.        ],\n",
       "       [ 35.00001077, 139.        ],\n",
       "       ...,\n",
       "       [ 35.99995162, 139.99985487],\n",
       "       [ 35.99997974, 139.99993921],\n",
       "       [ 35.99999853, 139.99999558]])"
      ]
     },
     "execution_count": 84,
     "metadata": {},
     "output_type": "execute_result"
    }
   ],
   "source": [
    "points"
   ]
  },
  {
   "cell_type": "code",
   "execution_count": 85,
   "metadata": {},
   "outputs": [
    {
     "data": {
      "text/plain": [
       "array([[ 35.00000752, 139.        ,  35.00000991, 139.        ],\n",
       "       [ 35.00000991, 139.        ,  35.00001077, 139.        ],\n",
       "       [ 35.00001077, 139.        ,  35.00004057, 139.        ],\n",
       "       ...,\n",
       "       [ 35.99994833, 139.99984501,  35.99995162, 139.99985487],\n",
       "       [ 35.99995162, 139.99985487,  35.99997974, 139.99993921],\n",
       "       [ 35.99997974, 139.99993921,  35.99999853, 139.99999558]])"
      ]
     },
     "execution_count": 85,
     "metadata": {},
     "output_type": "execute_result"
    }
   ],
   "source": [
    "v = np.c_[np.delete(points, -1 , 0), np.delete(points, 0 , 0)]\n",
    "v"
   ]
  },
  {
   "cell_type": "code",
   "execution_count": 86,
   "metadata": {},
   "outputs": [
    {
     "data": {
      "text/plain": [
       "(86423, 4)"
      ]
     },
     "execution_count": 86,
     "metadata": {},
     "output_type": "execute_result"
    }
   ],
   "source": [
    "v.shape"
   ]
  },
  {
   "cell_type": "code",
   "execution_count": 87,
   "metadata": {},
   "outputs": [
    {
     "name": "stdout",
     "output_type": "stream",
     "text": [
      "155595.46489706112\n",
      "elapsed_time:0.25295305252075195[sec]\n"
     ]
    }
   ],
   "source": [
    "start = time.time()\n",
    "distance = 0\n",
    "for point in v:\n",
    "    distance += hubeny(point[0], point[1], point[2], point[3])\n",
    "\n",
    "print(distance)\n",
    "elapsed_time = time.time() - start\n",
    "print (\"elapsed_time:{0}\".format(elapsed_time) + \"[sec]\")"
   ]
  },
  {
   "cell_type": "code",
   "execution_count": 88,
   "metadata": {},
   "outputs": [
    {
     "data": {
      "text/plain": [
       "array([139.        , 139.        , 139.        , ..., 139.99984501,\n",
       "       139.99985487, 139.99993921])"
      ]
     },
     "execution_count": 88,
     "metadata": {},
     "output_type": "execute_result"
    }
   ],
   "source": [
    "v[:,1]"
   ]
  },
  {
   "cell_type": "code",
   "execution_count": 89,
   "metadata": {},
   "outputs": [],
   "source": [
    "def hubeny(latf, longf, late, longe):\n",
    "    y1 = latf\n",
    "    y2 = late\n",
    "    x1 = longf\n",
    "    x2 = longe\n",
    "\n",
    "    a = 6378137.0\n",
    "    b = 6356752.314140\n",
    "    dy = np.radians(y2 - y1)\n",
    "    dx = np.radians(x2 - x1)\n",
    "    my = np.radians((y1 + y2) / 2)\n",
    "    e2 = (a**2 - b**2) / a**2\n",
    "    Mnum = a * (1 - e2)\n",
    "    W = np.sqrt(1 - e2 * np.sin(my)**2)\n",
    "    M = Mnum / W**3\n",
    "    N = a / W\n",
    "    return np.sqrt((dy * M)**2 + (dx * N * np.cos(my))**2)\n"
   ]
  },
  {
   "cell_type": "code",
   "execution_count": 90,
   "metadata": {},
   "outputs": [
    {
     "name": "stdout",
     "output_type": "stream",
     "text": [
      "155595.46489706245\n",
      "elapsed_time:0.006199836730957031[sec]\n"
     ]
    }
   ],
   "source": [
    "start = time.time()\n",
    "\n",
    "distances = hubeny(v[:,0], v[:,1], v[:,2], v[:,3])\n",
    "print(np.sum(distances))\n",
    "\n",
    "elapsed_time = time.time() - start\n",
    "print (\"elapsed_time:{0}\".format(elapsed_time) + \"[sec]\")"
   ]
  },
  {
   "cell_type": "code",
   "execution_count": 91,
   "metadata": {},
   "outputs": [],
   "source": [
    "v = np.array([[35, 139, 55, 159]])"
   ]
  },
  {
   "cell_type": "code",
   "execution_count": 92,
   "metadata": {},
   "outputs": [],
   "source": [
    "def hubeny(latf, longf, late, longe):\n",
    "    y1 = latf\n",
    "    y2 = late\n",
    "    x1 = longf\n",
    "    x2 = longe\n",
    "\n",
    "    a = 6378137.0\n",
    "    b = 6356752.314140\n",
    "    dy = math.radians(y2 - y1)\n",
    "    dx = math.radians(x2 - x1)\n",
    "    my = math.radians((y1 + y2) / 2)\n",
    "    e2 = (a**2 - b**2) / a**2\n",
    "    Mnum = a * (1 - e2)\n",
    "    W = math.sqrt(1 - e2 * math.sin(my)**2)\n",
    "    M = Mnum / W**3\n",
    "    N = a / W\n",
    "    return math.sqrt((dy * M)**2 + (dx * N * math.cos(my))**2)\n"
   ]
  },
  {
   "cell_type": "code",
   "execution_count": 93,
   "metadata": {},
   "outputs": [
    {
     "name": "stdout",
     "output_type": "stream",
     "text": [
      "2725222.585805935\n"
     ]
    }
   ],
   "source": [
    "distance = 0\n",
    "for point in v:\n",
    "    distance += hubeny(point[0], point[1], point[2], point[3])\n",
    "\n",
    "print(distance)\n"
   ]
  },
  {
   "cell_type": "code",
   "execution_count": 94,
   "metadata": {},
   "outputs": [],
   "source": [
    "def hubeny(latf, longf, late, longe):\n",
    "    y1 = latf\n",
    "    y2 = late\n",
    "    x1 = longf\n",
    "    x2 = longe\n",
    "\n",
    "    a = 6378137.0\n",
    "    b = 6356752.314140\n",
    "    dy = np.radians(y2 - y1)\n",
    "    dx = np.radians(x2 - x1)\n",
    "    my = np.radians((y1 + y2) / 2)\n",
    "    e2 = (a**2 - b**2) / a**2\n",
    "    Mnum = a * (1 - e2)\n",
    "    W = np.sqrt(1 - e2 * np.sin(my)**2)\n",
    "    M = Mnum / W**3\n",
    "    N = a / W\n",
    "    return np.sqrt((dy * M)**2 + (dx * N * np.cos(my))**2)\n"
   ]
  },
  {
   "cell_type": "code",
   "execution_count": 95,
   "metadata": {},
   "outputs": [
    {
     "name": "stdout",
     "output_type": "stream",
     "text": [
      "2725222.585805935\n",
      "elapsed_time:0.00039315223693847656[sec]\n"
     ]
    }
   ],
   "source": [
    "start = time.time()\n",
    "\n",
    "distances = hubeny(v[:,0], v[:,1], v[:,2], v[:,3])\n",
    "print(np.sum(distances))\n",
    "\n",
    "elapsed_time = time.time() - start\n",
    "print (\"elapsed_time:{0}\".format(elapsed_time) + \"[sec]\")"
   ]
  },
  {
   "cell_type": "code",
   "execution_count": 96,
   "metadata": {},
   "outputs": [
    {
     "data": {
      "text/plain": [
       "6335439.327083167"
      ]
     },
     "execution_count": 96,
     "metadata": {},
     "output_type": "execute_result"
    }
   ],
   "source": [
    "a = 6378137.0\n",
    "b = 6356752.314140\n",
    "e2 = (a**2 - b**2) / a**2\n",
    "Mnum = a * (1 - e2)\n",
    "Mnum"
   ]
  },
  {
   "cell_type": "code",
   "execution_count": 97,
   "metadata": {},
   "outputs": [
    {
     "data": {
      "text/plain": [
       "0.00669438002301188"
      ]
     },
     "execution_count": 97,
     "metadata": {},
     "output_type": "execute_result"
    }
   ],
   "source": [
    "e2"
   ]
  },
  {
   "cell_type": "code",
   "execution_count": 108,
   "metadata": {},
   "outputs": [],
   "source": [
    "def hubeny(latf, longf, late, longe):\n",
    "    a = 6378137.0\n",
    "    e2 = 0.00669438002301188\n",
    "    Mnum = 6335439.327083167\n",
    "\n",
    "    dy = np.radians(late - latf)\n",
    "    dx = np.radians(longe - longf)\n",
    "    my = np.radians((latf + late) / 2)\n",
    "    W = np.sqrt(1 - e2 * np.sin(my)**2)\n",
    "    M = Mnum / W**3\n",
    "    N = a / W\n",
    "    return np.sqrt((dy * M)**2 + (dx * N * np.cos(my))**2)"
   ]
  },
  {
   "cell_type": "code",
   "execution_count": 109,
   "metadata": {},
   "outputs": [
    {
     "name": "stdout",
     "output_type": "stream",
     "text": [
      "2725222.585805935\n",
      "elapsed_time:0.0003178119659423828[sec]\n"
     ]
    }
   ],
   "source": [
    "start = time.time()\n",
    "\n",
    "distances = hubeny(v[:,0], v[:,1], v[:,2], v[:,3])\n",
    "print(np.sum(distances))\n",
    "\n",
    "elapsed_time = time.time() - start\n",
    "print (\"elapsed_time:{0}\".format(elapsed_time) + \"[sec]\")"
   ]
  },
  {
   "cell_type": "code",
   "execution_count": null,
   "metadata": {},
   "outputs": [],
   "source": []
  }
 ],
 "metadata": {
  "kernelspec": {
   "display_name": "Python 3",
   "language": "python",
   "name": "python3"
  },
  "language_info": {
   "codemirror_mode": {
    "name": "ipython",
    "version": 3
   },
   "file_extension": ".py",
   "mimetype": "text/x-python",
   "name": "python",
   "nbconvert_exporter": "python",
   "pygments_lexer": "ipython3",
   "version": "3.7.0"
  }
 },
 "nbformat": 4,
 "nbformat_minor": 2
}
